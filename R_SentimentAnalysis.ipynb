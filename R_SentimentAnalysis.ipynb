{
  "nbformat": 4,
  "nbformat_minor": 0,
  "metadata": {
    "colab": {
      "provenance": [],
      "authorship_tag": "ABX9TyOGaiUYKkABmHy7IueA5s9R",
      "include_colab_link": true
    },
    "kernelspec": {
      "name": "ir",
      "display_name": "R"
    },
    "language_info": {
      "name": "R"
    }
  },
  "cells": [
    {
      "cell_type": "markdown",
      "metadata": {
        "id": "view-in-github",
        "colab_type": "text"
      },
      "source": [
        "<a href=\"https://colab.research.google.com/github/nuraishasb/sentiment-analysis/blob/main/R_SentimentAnalysis.ipynb\" target=\"_parent\"><img src=\"https://colab.research.google.com/assets/colab-badge.svg\" alt=\"Open In Colab\"/></a>"
      ]
    },
    {
      "cell_type": "markdown",
      "source": [
        "### **MOVIE REVIEW DATASET**\n",
        "\n",
        "We will be using a dataset of movie reviews. The movies corpus has an attribute `sentiment` that labels each text as either `pos` or `neg` according to the original imdb.com archived newspaper review star rating."
      ],
      "metadata": {
        "id": "YjMYyexhfBRp"
      }
    },
    {
      "cell_type": "code",
      "execution_count": 3,
      "metadata": {
        "colab": {
          "base_uri": "https://localhost:8080/"
        },
        "id": "KvLt_jRYYydw",
        "outputId": "c35d9400-23c0-4bd4-d615-a2642481e144"
      },
      "outputs": [
        {
          "output_type": "stream",
          "name": "stderr",
          "text": [
            "Installing package into ‘/usr/local/lib/R/site-library’\n",
            "(as ‘lib’ is unspecified)\n",
            "\n",
            "also installing the dependencies ‘ISOcodes’, ‘fastmatch’, ‘SnowballC’, ‘stopwords’, ‘RcppArmadillo’\n",
            "\n",
            "\n",
            "Package version: 4.0.2\n",
            "Unicode version: 14.0\n",
            "ICU version: 70.1\n",
            "\n",
            "Parallel computing: 2 of 2 threads used.\n",
            "\n",
            "See https://quanteda.io for tutorials and examples.\n",
            "\n",
            "Installing package into ‘/usr/local/lib/R/site-library’\n",
            "(as ‘lib’ is unspecified)\n",
            "\n",
            "also installing the dependencies ‘iterators’, ‘foreach’, ‘shape’, ‘RcppEigen’, ‘glmnet’, ‘LiblineaR’, ‘RSpectra’, ‘SparseM’\n",
            "\n",
            "\n",
            "Installing package into ‘/usr/local/lib/R/site-library’\n",
            "(as ‘lib’ is unspecified)\n",
            "\n",
            "also installing the dependencies ‘coda’, ‘extrafontdb’, ‘Rttf2pt1’, ‘statnet.common’, ‘extrafont’, ‘ggrepel’, ‘sna’, ‘igraph’, ‘network’\n",
            "\n",
            "\n",
            "Installing package into ‘/usr/local/lib/R/site-library’\n",
            "(as ‘lib’ is unspecified)\n",
            "\n",
            "also installing the dependencies ‘listenv’, ‘parallelly’, ‘future’, ‘globals’, ‘future.apply’, ‘numDeriv’, ‘progressr’, ‘SQUAREM’, ‘diagram’, ‘lava’, ‘prodlim’, ‘proxy’, ‘clock’, ‘gower’, ‘hardhat’, ‘ipred’, ‘timeDate’, ‘e1071’, ‘ModelMetrics’, ‘plyr’, ‘pROC’, ‘recipes’, ‘reshape2’\n",
            "\n",
            "\n",
            "Loading required package: ggplot2\n",
            "\n",
            "Loading required package: lattice\n",
            "\n"
          ]
        }
      ],
      "source": [
        "#install packages\n",
        "install.packages(\"quanteda\")\n",
        "library(quanteda)\n",
        "\n",
        "install.packages(\"quanteda.textmodels\")\n",
        "library(quanteda.textmodels)\n",
        "\n",
        "install.packages('quanteda.textplots')\n",
        "library(quanteda.textplots)\n",
        "\n",
        "install.packages('caret')\n",
        "library(caret)"
      ]
    },
    {
      "cell_type": "markdown",
      "source": [
        "### **importing & inspecting data**"
      ],
      "metadata": {
        "id": "Lvnjt0qaE80V"
      }
    },
    {
      "cell_type": "code",
      "source": [
        "#data\n",
        "moviereviews <- quanteda.textmodels::data_corpus_moviereviews\n",
        "\n",
        "#docvars returns a dataframe of the document-level variables\n",
        "head(docvars(moviereviews))"
      ],
      "metadata": {
        "colab": {
          "base_uri": "https://localhost:8080/",
          "height": 286
        },
        "id": "xjx2lJAvlhxo",
        "outputId": "ab23db5f-9764-4837-be67-5ad8f82abf83"
      },
      "execution_count": 4,
      "outputs": [
        {
          "output_type": "display_data",
          "data": {
            "text/html": [
              "<table class=\"dataframe\">\n",
              "<caption>A data.frame: 6 × 3</caption>\n",
              "<thead>\n",
              "\t<tr><th></th><th scope=col>sentiment</th><th scope=col>id1</th><th scope=col>id2</th></tr>\n",
              "\t<tr><th></th><th scope=col>&lt;fct&gt;</th><th scope=col>&lt;chr&gt;</th><th scope=col>&lt;chr&gt;</th></tr>\n",
              "</thead>\n",
              "<tbody>\n",
              "\t<tr><th scope=row>1</th><td>neg</td><td>cv000</td><td>29416</td></tr>\n",
              "\t<tr><th scope=row>2</th><td>neg</td><td>cv001</td><td>19502</td></tr>\n",
              "\t<tr><th scope=row>3</th><td>neg</td><td>cv002</td><td>17424</td></tr>\n",
              "\t<tr><th scope=row>4</th><td>neg</td><td>cv003</td><td>12683</td></tr>\n",
              "\t<tr><th scope=row>5</th><td>neg</td><td>cv004</td><td>12641</td></tr>\n",
              "\t<tr><th scope=row>6</th><td>neg</td><td>cv005</td><td>29357</td></tr>\n",
              "</tbody>\n",
              "</table>\n"
            ],
            "text/markdown": "\nA data.frame: 6 × 3\n\n| <!--/--> | sentiment &lt;fct&gt; | id1 &lt;chr&gt; | id2 &lt;chr&gt; |\n|---|---|---|---|\n| 1 | neg | cv000 | 29416 |\n| 2 | neg | cv001 | 19502 |\n| 3 | neg | cv002 | 17424 |\n| 4 | neg | cv003 | 12683 |\n| 5 | neg | cv004 | 12641 |\n| 6 | neg | cv005 | 29357 |\n\n",
            "text/latex": "A data.frame: 6 × 3\n\\begin{tabular}{r|lll}\n  & sentiment & id1 & id2\\\\\n  & <fct> & <chr> & <chr>\\\\\n\\hline\n\t1 & neg & cv000 & 29416\\\\\n\t2 & neg & cv001 & 19502\\\\\n\t3 & neg & cv002 & 17424\\\\\n\t4 & neg & cv003 & 12683\\\\\n\t5 & neg & cv004 & 12641\\\\\n\t6 & neg & cv005 & 29357\\\\\n\\end{tabular}\n",
            "text/plain": [
              "  sentiment id1   id2  \n",
              "1 neg       cv000 29416\n",
              "2 neg       cv001 19502\n",
              "3 neg       cv002 17424\n",
              "4 neg       cv003 12683\n",
              "5 neg       cv004 12641\n",
              "6 neg       cv005 29357"
            ]
          },
          "metadata": {}
        }
      ]
    },
    {
      "cell_type": "code",
      "source": [
        "head(moviereviews, n = 3)"
      ],
      "metadata": {
        "colab": {
          "base_uri": "https://localhost:8080/",
          "height": 711
        },
        "id": "fI_PPNtT-TNx",
        "outputId": "31c1857b-cffe-424f-a6de-a2a914e42f75"
      },
      "execution_count": 8,
      "outputs": [
        {
          "output_type": "display_data",
          "data": {
            "text/html": [
              "<style>\n",
              ".dl-inline {width: auto; margin:0; padding: 0}\n",
              ".dl-inline>dt, .dl-inline>dd {float: none; width: auto; display: inline-block}\n",
              ".dl-inline>dt::after {content: \":\\0020\"; padding-right: .5ex}\n",
              ".dl-inline>dt:not(:first-of-type) {padding-left: .5ex}\n",
              "</style><dl class=dl-inline><dt>cv000_29416.txt</dt><dd>'plot : two teen couples go to a church party , drink and then drive . \\nthey get into an accident . \\none of the guys dies , but his girlfriend continues to see him in her life , and has nightmares . \\nwhat\\'s the deal ? \\nwatch the movie and \" sorta \" find out . . . \\ncritique : a mind-fuck movie for the teen generation that touches on a very cool idea , but presents it in a very bad package . \\nwhich is what makes this review an even harder one to write , since i generally applaud films which attempt to break the mold , mess with your head and such ( lost highway &amp; memento ) , but there are good and bad ways of making all types of films , and these folks just didn\\'t snag this one correctly . \\nthey seem to have taken this pretty neat concept , but executed it terribly . \\nso what are the problems with the movie ? \\nwell , its main problem is that it\\'s simply too jumbled . \\nit starts off \" normal \" but then downshifts into this \" fantasy \" world in which you , as an audience member , have no idea what\\'s going on . \\nthere are dreams , there are characters coming back from the dead , there are others who look like the dead , there are strange apparitions , there are disappearances , there are a looooot of chase scenes , there are tons of weird things that happen , and most of it is simply not explained . \\nnow i personally don\\'t mind trying to unravel a film every now and then , but when all it does is give me the same clue over and over again , i get kind of fed up after a while , which is this film\\'s biggest problem . \\nit\\'s obviously got this big secret to hide , but it seems to want to hide it completely until its final five minutes . \\nand do they make things entertaining , thrilling or even engaging , in the meantime ? \\nnot really . \\nthe sad part is that the arrow and i both dig on flicks like this , so we actually figured most of it out by the half-way point , so all of the strangeness after that did start to make a little bit of sense , but it still didn\\'t the make the film all that more entertaining . \\ni guess the bottom line with movies like this is that you should always make sure that the audience is \" into it \" even before they are given the secret password to enter your world of understanding . \\ni mean , showing melissa sagemiller running away from visions for about 20 minutes throughout the movie is just plain lazy ! ! \\nokay , we get it . . . there \\nare people chasing her and we don\\'t know who they are . \\ndo we really need to see it over and over again ? \\nhow about giving us different scenes offering further insight into all of the strangeness going down in the movie ? \\napparently , the studio took this film away from its director and chopped it up themselves , and it shows . \\nthere might\\'ve been a pretty decent teen mind-fuck movie in here somewhere , but i guess \" the suits \" decided that turning it into a music video with little edge , would make more sense . \\nthe actors are pretty good for the most part , although wes bentley just seemed to be playing the exact same character that he did in american beauty , only in a new neighborhood . \\nbut my biggest kudos go out to sagemiller , who holds her own throughout the entire film , and actually has you feeling her character\\'s unraveling . \\noverall , the film doesn\\'t stick because it doesn\\'t entertain , it\\'s confusing , it rarely excites and it feels pretty redundant for most of its runtime , despite a pretty cool ending and explanation to all of the craziness that came before it . \\noh , and by the way , this is not a horror or teen slasher flick . . . it\\'s \\njust packaged to look that way because someone is apparently assuming that the genre is still hot with the kids . \\nit also wrapped production two years ago and has been sitting on the shelves ever since . \\nwhatever . . . skip \\nit ! \\nwhere\\'s joblo coming from ? \\na nightmare of elm street 3 ( 7/10 ) - blair witch 2 ( 7/10 ) - the crow ( 9/10 ) - the crow : salvation ( 4/10 ) - lost highway ( 10/10 ) - memento ( 10/10 ) - the others ( 9/10 ) - stir of echoes ( 8/10 ) '</dd><dt>cv001_19502.txt</dt><dd>'the happy bastard\\'s quick movie review \\ndamn that y2k bug . \\nit\\'s got a head start in this movie starring jamie lee curtis and another baldwin brother ( william this time ) in a story regarding a crew of a tugboat that comes across a deserted russian tech ship that has a strangeness to it when they kick the power back on . \\nlittle do they know the power within . . . \\ngoing for the gore and bringing on a few action sequences here and there , virus still feels very empty , like a movie going for all flash and no substance . \\nwe don\\'t know why the crew was really out in the middle of nowhere , we don\\'t know the origin of what took over the ship ( just that a big pink flashy thing hit the mir ) , and , of course , we don\\'t know why donald sutherland is stumbling around drunkenly throughout . \\nhere , it\\'s just \" hey , let\\'s chase these people around with some robots \" . \\nthe acting is below average , even from the likes of curtis . \\nyou\\'re more likely to get a kick out of her work in halloween h20 . \\nsutherland is wasted and baldwin , well , he\\'s acting like a baldwin , of course . \\nthe real star here are stan winston\\'s robot design , some schnazzy cgi , and the occasional good gore shot , like picking into someone\\'s brain . \\nso , if robots and body parts really turn you on , here\\'s your movie . \\notherwise , it\\'s pretty much a sunken ship of a movie . '</dd><dt>cv002_17424.txt</dt><dd>'it is movies like these that make a jaded movie viewer thankful for the invention of the timex indiglo watch . \\nbased on the late 1960\\'s television show by the same name , the mod squad tells the tale of three reformed criminals under the employ of the police to go undercover . \\nhowever , things go wrong as evidence gets stolen and they are immediately under suspicion . \\nof course , the ads make it seem like so much more . \\nquick cuts , cool music , claire dane\\'s nice hair and cute outfits , car chases , stuff blowing up , and the like . \\nsounds like a cool movie , does it not ? \\nafter the first fifteen minutes , it quickly becomes apparent that it is not . \\nthe mod squad is certainly a slick looking production , complete with nice hair and costumes , but that simply isn\\'t enough . \\nthe film is best described as a cross between an hour-long cop show and a music video , both stretched out into the span of an hour and a half . \\nand with it comes every single clich ? . \\nit doesn\\'t really matter that the film is based on a television show , as most of the plot elements have been recycled from everything we\\'ve already seen . \\nthe characters and acting is nothing spectacular , sometimes even bordering on wooden . \\nclaire danes and omar epps deliver their lines as if they are bored , which really transfers onto the audience . \\nthe only one to escape relatively unscathed is giovanni ribisi , who plays the resident crazy man , ultimately being the only thing worth watching . \\nunfortunately , even he\\'s not enough to save this convoluted mess , as all the characters don\\'t do much apart from occupying screen time . \\nwith the young cast , cool clothes , nice hair , and hip soundtrack , it appears that the film is geared towards the teenage mindset . \\ndespite an american \\'r\\' rating ( which the content does not justify ) , the film is way too juvenile for the older mindset . \\ninformation on the characters is literally spoon-fed to the audience ( would it be that hard to show us instead of telling us ? ) , dialogue is poorly written , and the plot is extremely predictable . \\nthe way the film progresses , you likely won\\'t even care if the heroes are in any jeopardy , because you\\'ll know they aren\\'t . \\nbasing the show on a 1960\\'s television show that nobody remembers is of questionable wisdom , especially when one considers the target audience and the fact that the number of memorable films based on television shows can be counted on one hand ( even one that\\'s missing a finger or two ) . \\nthe number of times that i checked my watch ( six ) is a clear indication that this film is not one of them . \\nit is clear that the film is nothing more than an attempt to cash in on the teenage spending dollar , judging from the rash of really awful teen-flicks that we\\'ve been seeing as of late . \\navoid this film at all costs . '</dd></dl>\n"
            ],
            "text/markdown": "cv000_29416.txt\n:   'plot : two teen couples go to a church party , drink and then drive . \\nthey get into an accident . \\none of the guys dies , but his girlfriend continues to see him in her life , and has nightmares . \\nwhat\\'s the deal ? \\nwatch the movie and \" sorta \" find out . . . \\ncritique : a mind-fuck movie for the teen generation that touches on a very cool idea , but presents it in a very bad package . \\nwhich is what makes this review an even harder one to write , since i generally applaud films which attempt to break the mold , mess with your head and such ( lost highway &amp; memento ) , but there are good and bad ways of making all types of films , and these folks just didn\\'t snag this one correctly . \\nthey seem to have taken this pretty neat concept , but executed it terribly . \\nso what are the problems with the movie ? \\nwell , its main problem is that it\\'s simply too jumbled . \\nit starts off \" normal \" but then downshifts into this \" fantasy \" world in which you , as an audience member , have no idea what\\'s going on . \\nthere are dreams , there are characters coming back from the dead , there are others who look like the dead , there are strange apparitions , there are disappearances , there are a looooot of chase scenes , there are tons of weird things that happen , and most of it is simply not explained . \\nnow i personally don\\'t mind trying to unravel a film every now and then , but when all it does is give me the same clue over and over again , i get kind of fed up after a while , which is this film\\'s biggest problem . \\nit\\'s obviously got this big secret to hide , but it seems to want to hide it completely until its final five minutes . \\nand do they make things entertaining , thrilling or even engaging , in the meantime ? \\nnot really . \\nthe sad part is that the arrow and i both dig on flicks like this , so we actually figured most of it out by the half-way point , so all of the strangeness after that did start to make a little bit of sense , but it still didn\\'t the make the film all that more entertaining . \\ni guess the bottom line with movies like this is that you should always make sure that the audience is \" into it \" even before they are given the secret password to enter your world of understanding . \\ni mean , showing melissa sagemiller running away from visions for about 20 minutes throughout the movie is just plain lazy ! ! \\nokay , we get it . . . there \\nare people chasing her and we don\\'t know who they are . \\ndo we really need to see it over and over again ? \\nhow about giving us different scenes offering further insight into all of the strangeness going down in the movie ? \\napparently , the studio took this film away from its director and chopped it up themselves , and it shows . \\nthere might\\'ve been a pretty decent teen mind-fuck movie in here somewhere , but i guess \" the suits \" decided that turning it into a music video with little edge , would make more sense . \\nthe actors are pretty good for the most part , although wes bentley just seemed to be playing the exact same character that he did in american beauty , only in a new neighborhood . \\nbut my biggest kudos go out to sagemiller , who holds her own throughout the entire film , and actually has you feeling her character\\'s unraveling . \\noverall , the film doesn\\'t stick because it doesn\\'t entertain , it\\'s confusing , it rarely excites and it feels pretty redundant for most of its runtime , despite a pretty cool ending and explanation to all of the craziness that came before it . \\noh , and by the way , this is not a horror or teen slasher flick . . . it\\'s \\njust packaged to look that way because someone is apparently assuming that the genre is still hot with the kids . \\nit also wrapped production two years ago and has been sitting on the shelves ever since . \\nwhatever . . . skip \\nit ! \\nwhere\\'s joblo coming from ? \\na nightmare of elm street 3 ( 7/10 ) - blair witch 2 ( 7/10 ) - the crow ( 9/10 ) - the crow : salvation ( 4/10 ) - lost highway ( 10/10 ) - memento ( 10/10 ) - the others ( 9/10 ) - stir of echoes ( 8/10 ) 'cv001_19502.txt\n:   'the happy bastard\\'s quick movie review \\ndamn that y2k bug . \\nit\\'s got a head start in this movie starring jamie lee curtis and another baldwin brother ( william this time ) in a story regarding a crew of a tugboat that comes across a deserted russian tech ship that has a strangeness to it when they kick the power back on . \\nlittle do they know the power within . . . \\ngoing for the gore and bringing on a few action sequences here and there , virus still feels very empty , like a movie going for all flash and no substance . \\nwe don\\'t know why the crew was really out in the middle of nowhere , we don\\'t know the origin of what took over the ship ( just that a big pink flashy thing hit the mir ) , and , of course , we don\\'t know why donald sutherland is stumbling around drunkenly throughout . \\nhere , it\\'s just \" hey , let\\'s chase these people around with some robots \" . \\nthe acting is below average , even from the likes of curtis . \\nyou\\'re more likely to get a kick out of her work in halloween h20 . \\nsutherland is wasted and baldwin , well , he\\'s acting like a baldwin , of course . \\nthe real star here are stan winston\\'s robot design , some schnazzy cgi , and the occasional good gore shot , like picking into someone\\'s brain . \\nso , if robots and body parts really turn you on , here\\'s your movie . \\notherwise , it\\'s pretty much a sunken ship of a movie . 'cv002_17424.txt\n:   'it is movies like these that make a jaded movie viewer thankful for the invention of the timex indiglo watch . \\nbased on the late 1960\\'s television show by the same name , the mod squad tells the tale of three reformed criminals under the employ of the police to go undercover . \\nhowever , things go wrong as evidence gets stolen and they are immediately under suspicion . \\nof course , the ads make it seem like so much more . \\nquick cuts , cool music , claire dane\\'s nice hair and cute outfits , car chases , stuff blowing up , and the like . \\nsounds like a cool movie , does it not ? \\nafter the first fifteen minutes , it quickly becomes apparent that it is not . \\nthe mod squad is certainly a slick looking production , complete with nice hair and costumes , but that simply isn\\'t enough . \\nthe film is best described as a cross between an hour-long cop show and a music video , both stretched out into the span of an hour and a half . \\nand with it comes every single clich ? . \\nit doesn\\'t really matter that the film is based on a television show , as most of the plot elements have been recycled from everything we\\'ve already seen . \\nthe characters and acting is nothing spectacular , sometimes even bordering on wooden . \\nclaire danes and omar epps deliver their lines as if they are bored , which really transfers onto the audience . \\nthe only one to escape relatively unscathed is giovanni ribisi , who plays the resident crazy man , ultimately being the only thing worth watching . \\nunfortunately , even he\\'s not enough to save this convoluted mess , as all the characters don\\'t do much apart from occupying screen time . \\nwith the young cast , cool clothes , nice hair , and hip soundtrack , it appears that the film is geared towards the teenage mindset . \\ndespite an american \\'r\\' rating ( which the content does not justify ) , the film is way too juvenile for the older mindset . \\ninformation on the characters is literally spoon-fed to the audience ( would it be that hard to show us instead of telling us ? ) , dialogue is poorly written , and the plot is extremely predictable . \\nthe way the film progresses , you likely won\\'t even care if the heroes are in any jeopardy , because you\\'ll know they aren\\'t . \\nbasing the show on a 1960\\'s television show that nobody remembers is of questionable wisdom , especially when one considers the target audience and the fact that the number of memorable films based on television shows can be counted on one hand ( even one that\\'s missing a finger or two ) . \\nthe number of times that i checked my watch ( six ) is a clear indication that this film is not one of them . \\nit is clear that the film is nothing more than an attempt to cash in on the teenage spending dollar , judging from the rash of really awful teen-flicks that we\\'ve been seeing as of late . \\navoid this film at all costs . '\n\n",
            "text/latex": "\\begin{description*}\n\\item[cv000\\textbackslash{}\\_29416.txt] 'plot : two teen couples go to a church party , drink and then drive . \\textbackslash{}nthey get into an accident . \\textbackslash{}none of the guys dies , but his girlfriend continues to see him in her life , and has nightmares . \\textbackslash{}nwhat\\textbackslash{}'s the deal ? \\textbackslash{}nwatch the movie and \" sorta \" find out . . . \\textbackslash{}ncritique : a mind-fuck movie for the teen generation that touches on a very cool idea , but presents it in a very bad package . \\textbackslash{}nwhich is what makes this review an even harder one to write , since i generally applaud films which attempt to break the mold , mess with your head and such ( lost highway \\& memento ) , but there are good and bad ways of making all types of films , and these folks just didn\\textbackslash{}'t snag this one correctly . \\textbackslash{}nthey seem to have taken this pretty neat concept , but executed it terribly . \\textbackslash{}nso what are the problems with the movie ? \\textbackslash{}nwell , its main problem is that it\\textbackslash{}'s simply too jumbled . \\textbackslash{}nit starts off \" normal \" but then downshifts into this \" fantasy \" world in which you , as an audience member , have no idea what\\textbackslash{}'s going on . \\textbackslash{}nthere are dreams , there are characters coming back from the dead , there are others who look like the dead , there are strange apparitions , there are disappearances , there are a looooot of chase scenes , there are tons of weird things that happen , and most of it is simply not explained . \\textbackslash{}nnow i personally don\\textbackslash{}'t mind trying to unravel a film every now and then , but when all it does is give me the same clue over and over again , i get kind of fed up after a while , which is this film\\textbackslash{}'s biggest problem . \\textbackslash{}nit\\textbackslash{}'s obviously got this big secret to hide , but it seems to want to hide it completely until its final five minutes . \\textbackslash{}nand do they make things entertaining , thrilling or even engaging , in the meantime ? \\textbackslash{}nnot really . \\textbackslash{}nthe sad part is that the arrow and i both dig on flicks like this , so we actually figured most of it out by the half-way point , so all of the strangeness after that did start to make a little bit of sense , but it still didn\\textbackslash{}'t the make the film all that more entertaining . \\textbackslash{}ni guess the bottom line with movies like this is that you should always make sure that the audience is \" into it \" even before they are given the secret password to enter your world of understanding . \\textbackslash{}ni mean , showing melissa sagemiller running away from visions for about 20 minutes throughout the movie is just plain lazy ! ! \\textbackslash{}nokay , we get it . . . there \\textbackslash{}nare people chasing her and we don\\textbackslash{}'t know who they are . \\textbackslash{}ndo we really need to see it over and over again ? \\textbackslash{}nhow about giving us different scenes offering further insight into all of the strangeness going down in the movie ? \\textbackslash{}napparently , the studio took this film away from its director and chopped it up themselves , and it shows . \\textbackslash{}nthere might\\textbackslash{}'ve been a pretty decent teen mind-fuck movie in here somewhere , but i guess \" the suits \" decided that turning it into a music video with little edge , would make more sense . \\textbackslash{}nthe actors are pretty good for the most part , although wes bentley just seemed to be playing the exact same character that he did in american beauty , only in a new neighborhood . \\textbackslash{}nbut my biggest kudos go out to sagemiller , who holds her own throughout the entire film , and actually has you feeling her character\\textbackslash{}'s unraveling . \\textbackslash{}noverall , the film doesn\\textbackslash{}'t stick because it doesn\\textbackslash{}'t entertain , it\\textbackslash{}'s confusing , it rarely excites and it feels pretty redundant for most of its runtime , despite a pretty cool ending and explanation to all of the craziness that came before it . \\textbackslash{}noh , and by the way , this is not a horror or teen slasher flick . . . it\\textbackslash{}'s \\textbackslash{}njust packaged to look that way because someone is apparently assuming that the genre is still hot with the kids . \\textbackslash{}nit also wrapped production two years ago and has been sitting on the shelves ever since . \\textbackslash{}nwhatever . . . skip \\textbackslash{}nit ! \\textbackslash{}nwhere\\textbackslash{}'s joblo coming from ? \\textbackslash{}na nightmare of elm street 3 ( 7/10 ) - blair witch 2 ( 7/10 ) - the crow ( 9/10 ) - the crow : salvation ( 4/10 ) - lost highway ( 10/10 ) - memento ( 10/10 ) - the others ( 9/10 ) - stir of echoes ( 8/10 ) '\n\\item[cv001\\textbackslash{}\\_19502.txt] 'the happy bastard\\textbackslash{}'s quick movie review \\textbackslash{}ndamn that y2k bug . \\textbackslash{}nit\\textbackslash{}'s got a head start in this movie starring jamie lee curtis and another baldwin brother ( william this time ) in a story regarding a crew of a tugboat that comes across a deserted russian tech ship that has a strangeness to it when they kick the power back on . \\textbackslash{}nlittle do they know the power within . . . \\textbackslash{}ngoing for the gore and bringing on a few action sequences here and there , virus still feels very empty , like a movie going for all flash and no substance . \\textbackslash{}nwe don\\textbackslash{}'t know why the crew was really out in the middle of nowhere , we don\\textbackslash{}'t know the origin of what took over the ship ( just that a big pink flashy thing hit the mir ) , and , of course , we don\\textbackslash{}'t know why donald sutherland is stumbling around drunkenly throughout . \\textbackslash{}nhere , it\\textbackslash{}'s just \" hey , let\\textbackslash{}'s chase these people around with some robots \" . \\textbackslash{}nthe acting is below average , even from the likes of curtis . \\textbackslash{}nyou\\textbackslash{}'re more likely to get a kick out of her work in halloween h20 . \\textbackslash{}nsutherland is wasted and baldwin , well , he\\textbackslash{}'s acting like a baldwin , of course . \\textbackslash{}nthe real star here are stan winston\\textbackslash{}'s robot design , some schnazzy cgi , and the occasional good gore shot , like picking into someone\\textbackslash{}'s brain . \\textbackslash{}nso , if robots and body parts really turn you on , here\\textbackslash{}'s your movie . \\textbackslash{}notherwise , it\\textbackslash{}'s pretty much a sunken ship of a movie . '\n\\item[cv002\\textbackslash{}\\_17424.txt] 'it is movies like these that make a jaded movie viewer thankful for the invention of the timex indiglo watch . \\textbackslash{}nbased on the late 1960\\textbackslash{}'s television show by the same name , the mod squad tells the tale of three reformed criminals under the employ of the police to go undercover . \\textbackslash{}nhowever , things go wrong as evidence gets stolen and they are immediately under suspicion . \\textbackslash{}nof course , the ads make it seem like so much more . \\textbackslash{}nquick cuts , cool music , claire dane\\textbackslash{}'s nice hair and cute outfits , car chases , stuff blowing up , and the like . \\textbackslash{}nsounds like a cool movie , does it not ? \\textbackslash{}nafter the first fifteen minutes , it quickly becomes apparent that it is not . \\textbackslash{}nthe mod squad is certainly a slick looking production , complete with nice hair and costumes , but that simply isn\\textbackslash{}'t enough . \\textbackslash{}nthe film is best described as a cross between an hour-long cop show and a music video , both stretched out into the span of an hour and a half . \\textbackslash{}nand with it comes every single clich ? . \\textbackslash{}nit doesn\\textbackslash{}'t really matter that the film is based on a television show , as most of the plot elements have been recycled from everything we\\textbackslash{}'ve already seen . \\textbackslash{}nthe characters and acting is nothing spectacular , sometimes even bordering on wooden . \\textbackslash{}nclaire danes and omar epps deliver their lines as if they are bored , which really transfers onto the audience . \\textbackslash{}nthe only one to escape relatively unscathed is giovanni ribisi , who plays the resident crazy man , ultimately being the only thing worth watching . \\textbackslash{}nunfortunately , even he\\textbackslash{}'s not enough to save this convoluted mess , as all the characters don\\textbackslash{}'t do much apart from occupying screen time . \\textbackslash{}nwith the young cast , cool clothes , nice hair , and hip soundtrack , it appears that the film is geared towards the teenage mindset . \\textbackslash{}ndespite an american \\textbackslash{}'r\\textbackslash{}' rating ( which the content does not justify ) , the film is way too juvenile for the older mindset . \\textbackslash{}ninformation on the characters is literally spoon-fed to the audience ( would it be that hard to show us instead of telling us ? ) , dialogue is poorly written , and the plot is extremely predictable . \\textbackslash{}nthe way the film progresses , you likely won\\textbackslash{}'t even care if the heroes are in any jeopardy , because you\\textbackslash{}'ll know they aren\\textbackslash{}'t . \\textbackslash{}nbasing the show on a 1960\\textbackslash{}'s television show that nobody remembers is of questionable wisdom , especially when one considers the target audience and the fact that the number of memorable films based on television shows can be counted on one hand ( even one that\\textbackslash{}'s missing a finger or two ) . \\textbackslash{}nthe number of times that i checked my watch ( six ) is a clear indication that this film is not one of them . \\textbackslash{}nit is clear that the film is nothing more than an attempt to cash in on the teenage spending dollar , judging from the rash of really awful teen-flicks that we\\textbackslash{}'ve been seeing as of late . \\textbackslash{}navoid this film at all costs . '\n\\end{description*}\n",
            "text/plain": [
              "Corpus consisting of 3 documents and 3 docvars.\n",
              "cv000_29416.txt :\n",
              "\"plot : two teen couples go to a church party , drink and the...\"\n",
              "\n",
              "cv001_19502.txt :\n",
              "\"the happy bastard's quick movie review  damn that y2k bug . ...\"\n",
              "\n",
              "cv002_17424.txt :\n",
              "\"it is movies like these that make a jaded movie viewer thank...\"\n"
            ]
          },
          "metadata": {}
        }
      ]
    },
    {
      "cell_type": "code",
      "source": [
        "#counting sentiments\n",
        "table(docvars(moviereviews)$sentiment)"
      ],
      "metadata": {
        "colab": {
          "base_uri": "https://localhost:8080/",
          "height": 69
        },
        "id": "rO-lvZHdEzdF",
        "outputId": "40841186-713b-4a62-acb2-190fc8d22a2b"
      },
      "execution_count": 6,
      "outputs": [
        {
          "output_type": "display_data",
          "data": {
            "text/plain": [
              "\n",
              " neg  pos \n",
              "1000 1000 "
            ]
          },
          "metadata": {}
        }
      ]
    },
    {
      "cell_type": "code",
      "source": [
        "summary(docvars(moviereviews))"
      ],
      "metadata": {
        "colab": {
          "base_uri": "https://localhost:8080/",
          "height": 86
        },
        "id": "PrWicc_AFdNx",
        "outputId": "a5a64516-c22c-440b-de02-37b4058eee57"
      },
      "execution_count": 7,
      "outputs": [
        {
          "output_type": "display_data",
          "data": {
            "text/plain": [
              " sentiment      id1                id2           \n",
              " neg:1000   Length:2000        Length:2000       \n",
              " pos:1000   Class :character   Class :character  \n",
              "            Mode  :character   Mode  :character  "
            ]
          },
          "metadata": {}
        }
      ]
    },
    {
      "cell_type": "markdown",
      "source": [
        "### **tokenizing corpus**"
      ],
      "metadata": {
        "id": "uYdPUmmwFF09"
      }
    },
    {
      "cell_type": "code",
      "source": [
        "set.seed(13)\n",
        "#creating training sample\n",
        "train <- sample(c(TRUE, FALSE), 2000, replace = TRUE, prob = c(.75, .25))\n",
        "#splitting data\n",
        "movies_train_corpus <- moviereviews[train]\n",
        "movies_test_corpus <- moviereviews[!train]"
      ],
      "metadata": {
        "id": "CsqfNkKbFVOD"
      },
      "execution_count": 10,
      "outputs": []
    },
    {
      "cell_type": "code",
      "source": [
        "#removing punctuation, numbers and symbols\n",
        "movies_train_tokens <- tokens(movies_train_corpus,\n",
        "                              remove_punct = TRUE,\n",
        "                              remove_numbers = TRUE,\n",
        "                              remove_symbols = TRUE)\n",
        "\n",
        "movies_test_tokens <- tokens(movies_test_corpus,\n",
        "                             remove_punct = TRUE,\n",
        "                             remove_numbers = TRUE,\n",
        "                             remove_symbols = TRUE)\n",
        "\n",
        "#removing stopwords\n",
        "movies_train_dfm <- dfm(movies_train_tokens) %>%\n",
        "  dfm_remove(pattern = stopwords(\"en\")) %>%\n",
        "  dfm_trim(min_termfreq = 10)\n",
        "\n",
        "movies_test_dfm <- dfm(movies_test_tokens)\n",
        "movies_test_dfm <- dfm_match(movies_test_dfm, features = featnames(movies_train_dfm))"
      ],
      "metadata": {
        "id": "j9st6t6LJGBw"
      },
      "execution_count": 11,
      "outputs": []
    },
    {
      "cell_type": "markdown",
      "source": [
        "### **multinomial naive bayes**"
      ],
      "metadata": {
        "id": "sb2N0g4FITjs"
      }
    },
    {
      "cell_type": "code",
      "source": [
        "#train the Naive Bayes classifier\n",
        "movie_nb <- textmodel_nb(movies_train_dfm, movies_train_dfm$sentiment)"
      ],
      "metadata": {
        "id": "o20j5JnahJIP"
      },
      "execution_count": 12,
      "outputs": []
    },
    {
      "cell_type": "code",
      "source": [
        "#words most strongly associated with pos sentiment according to the model\n",
        "head(sort(movie_nb$param[2,], decreasing = TRUE), 40)\n",
        "\n",
        " #words most strongly associated with neg sentiment according to the model\n",
        "head(sort(movie_nb$param[1,], decreasing = TRUE), 40)"
      ],
      "metadata": {
        "colab": {
          "base_uri": "https://localhost:8080/",
          "height": 260
        },
        "id": "xxoqaG8MhLlu",
        "outputId": "eebbb0d6-080a-4101-e702-8b015e57c5e3"
      },
      "execution_count": 13,
      "outputs": [
        {
          "output_type": "display_data",
          "data": {
            "text/html": [
              "<style>\n",
              ".dl-inline {width: auto; margin:0; padding: 0}\n",
              ".dl-inline>dt, .dl-inline>dd {float: none; width: auto; display: inline-block}\n",
              ".dl-inline>dt::after {content: \":\\0020\"; padding-right: .5ex}\n",
              ".dl-inline>dt:not(:first-of-type) {padding-left: .5ex}\n",
              "</style><dl class=dl-inline><dt>film</dt><dd>0.015074545855454</dd><dt>one</dt><dd>0.00907441016333938</dd><dt>movie</dt><dd>0.00755211425276049</dd><dt>like</dt><dd>0.00528775209050664</dd><dt>just</dt><dd>0.00431246501687671</dd><dt>story</dt><dd>0.00394355208032973</dd><dt>also</dt><dd>0.00375697542276574</dd><dt>good</dt><dd>0.00375273504418474</dd><dt>even</dt><dd>0.00367216785114575</dd><dt>time</dt><dd>0.00367216785114575</dd><dt>can</dt><dd>0.00363400444391675</dd><dt>much</dt><dd>0.00323116847872178</dd><dt>characters</dt><dd>0.00322268772155978</dd><dt>character</dt><dd>0.00317180317858778</dd><dt>well</dt><dd>0.00311243787845379</dd><dt>life</dt><dd>0.0030021880353478</dd><dt>first</dt><dd>0.0029725053852808</dd><dt>two</dt><dd>0.0028749766779178</dd><dt>see</dt><dd>0.0028707362993368</dd><dt>way</dt><dd>0.00283257289210781</dd><dt>films</dt><dd>0.00282409213494581</dd><dt>get</dt><dd>0.00274776532048781</dd><dt>many</dt><dd>0.00251878487711383</dd><dt>best</dt><dd>0.00251030411995183</dd><dt>little</dt><dd>0.00243821768407483</dd><dt>people</dt><dd>0.00241701579116984</dd><dt>great</dt><dd>0.00241701579116984</dd><dt>really</dt><dd>0.00239581389826484</dd><dt>make</dt><dd>0.00237037162677884</dd><dt>never</dt><dd>0.00234068897671184</dd><dt>new</dt><dd>0.00225164102651085</dd><dt>man</dt><dd>0.00219227572637685</dd><dt>love</dt><dd>0.00215835269772885</dd><dt>scene</dt><dd>0.00214563156198585</dd><dt>movies</dt><dd>0.00202690096171786</dd><dt>scenes</dt><dd>0.00198449717590787</dd><dt>plot</dt><dd>0.00185304543989687</dd><dt>world</dt><dd>0.00183608392557288</dd><dt>know</dt><dd>0.00181912241124888</dd><dt>makes</dt><dd>0.00180640127550588</dd></dl>\n"
            ],
            "text/markdown": "film\n:   0.015074545855454one\n:   0.00907441016333938movie\n:   0.00755211425276049like\n:   0.00528775209050664just\n:   0.00431246501687671story\n:   0.00394355208032973also\n:   0.00375697542276574good\n:   0.00375273504418474even\n:   0.00367216785114575time\n:   0.00367216785114575can\n:   0.00363400444391675much\n:   0.00323116847872178characters\n:   0.00322268772155978character\n:   0.00317180317858778well\n:   0.00311243787845379life\n:   0.0030021880353478first\n:   0.0029725053852808two\n:   0.0028749766779178see\n:   0.0028707362993368way\n:   0.00283257289210781films\n:   0.00282409213494581get\n:   0.00274776532048781many\n:   0.00251878487711383best\n:   0.00251030411995183little\n:   0.00243821768407483people\n:   0.00241701579116984great\n:   0.00241701579116984really\n:   0.00239581389826484make\n:   0.00237037162677884never\n:   0.00234068897671184new\n:   0.00225164102651085man\n:   0.00219227572637685love\n:   0.00215835269772885scene\n:   0.00214563156198585movies\n:   0.00202690096171786scenes\n:   0.00198449717590787plot\n:   0.00185304543989687world\n:   0.00183608392557288know\n:   0.00181912241124888makes\n:   0.00180640127550588\n\n",
            "text/latex": "\\begin{description*}\n\\item[film] 0.015074545855454\n\\item[one] 0.00907441016333938\n\\item[movie] 0.00755211425276049\n\\item[like] 0.00528775209050664\n\\item[just] 0.00431246501687671\n\\item[story] 0.00394355208032973\n\\item[also] 0.00375697542276574\n\\item[good] 0.00375273504418474\n\\item[even] 0.00367216785114575\n\\item[time] 0.00367216785114575\n\\item[can] 0.00363400444391675\n\\item[much] 0.00323116847872178\n\\item[characters] 0.00322268772155978\n\\item[character] 0.00317180317858778\n\\item[well] 0.00311243787845379\n\\item[life] 0.0030021880353478\n\\item[first] 0.0029725053852808\n\\item[two] 0.0028749766779178\n\\item[see] 0.0028707362993368\n\\item[way] 0.00283257289210781\n\\item[films] 0.00282409213494581\n\\item[get] 0.00274776532048781\n\\item[many] 0.00251878487711383\n\\item[best] 0.00251030411995183\n\\item[little] 0.00243821768407483\n\\item[people] 0.00241701579116984\n\\item[great] 0.00241701579116984\n\\item[really] 0.00239581389826484\n\\item[make] 0.00237037162677884\n\\item[never] 0.00234068897671184\n\\item[new] 0.00225164102651085\n\\item[man] 0.00219227572637685\n\\item[love] 0.00215835269772885\n\\item[scene] 0.00214563156198585\n\\item[movies] 0.00202690096171786\n\\item[scenes] 0.00198449717590787\n\\item[plot] 0.00185304543989687\n\\item[world] 0.00183608392557288\n\\item[know] 0.00181912241124888\n\\item[makes] 0.00180640127550588\n\\end{description*}\n",
            "text/plain": [
              "       film         one       movie        like        just       story \n",
              "0.015074546 0.009074410 0.007552114 0.005287752 0.004312465 0.003943552 \n",
              "       also        good        even        time         can        much \n",
              "0.003756975 0.003752735 0.003672168 0.003672168 0.003634004 0.003231168 \n",
              " characters   character        well        life       first         two \n",
              "0.003222688 0.003171803 0.003112438 0.003002188 0.002972505 0.002874977 \n",
              "        see         way       films         get        many        best \n",
              "0.002870736 0.002832573 0.002824092 0.002747765 0.002518785 0.002510304 \n",
              "     little      people       great      really        make       never \n",
              "0.002438218 0.002417016 0.002417016 0.002395814 0.002370372 0.002340689 \n",
              "        new         man        love       scene      movies      scenes \n",
              "0.002251641 0.002192276 0.002158353 0.002145632 0.002026901 0.001984497 \n",
              "       plot       world        know       makes \n",
              "0.001853045 0.001836084 0.001819122 0.001806401 "
            ]
          },
          "metadata": {}
        },
        {
          "output_type": "display_data",
          "data": {
            "text/html": [
              "<style>\n",
              ".dl-inline {width: auto; margin:0; padding: 0}\n",
              ".dl-inline>dt, .dl-inline>dd {float: none; width: auto; display: inline-block}\n",
              ".dl-inline>dt::after {content: \":\\0020\"; padding-right: .5ex}\n",
              ".dl-inline>dt:not(:first-of-type) {padding-left: .5ex}\n",
              "</style><dl class=dl-inline><dt>film</dt><dd>0.0139089822253441</dd><dt>movie</dt><dd>0.0106480469276966</dd><dt>one</dt><dd>0.00904316436323377</dd><dt>like</dt><dd>0.00645674492601259</dd><dt>just</dt><dd>0.00547055621973401</dd><dt>even</dt><dd>0.00481464769338835</dd><dt>good</dt><dd>0.00407500616367941</dd><dt>time</dt><dd>0.00384241448767032</dd><dt>get</dt><dd>0.0037679851513474</dd><dt>can</dt><dd>0.00366099298038322</dd><dt>bad</dt><dd>0.00357260814349976</dd><dt>much</dt><dd>0.00352143797477776</dd><dt>character</dt><dd>0.00317720229428429</dd><dt>story</dt><dd>0.00315394312668338</dd><dt>two</dt><dd>0.00312603212556229</dd><dt>characters</dt><dd>0.00310277295796138</dd><dt>plot</dt><dd>0.00299112895347701</dd><dt>make</dt><dd>0.00299112895347701</dd><dt>first</dt><dd>0.00275853727746791</dd><dt>also</dt><dd>0.00266550060706427</dd><dt>really</dt><dd>0.00263758960594318</dd><dt>see</dt><dd>0.00260967860482209</dd><dt>way</dt><dd>0.00259572310426154</dd><dt>well</dt><dd>0.00247012359921663</dd><dt>little</dt><dd>0.00245616809865609</dd><dt>scene</dt><dd>0.00240499792993408</dd><dt>people</dt><dd>0.00232591676009099</dd><dt>never</dt><dd>0.00228405025840935</dd><dt>know</dt><dd>0.0022468355902479</dd><dt>director</dt><dd>0.00220962092208644</dd><dt>scenes</dt><dd>0.00214914708632407</dd><dt>films</dt><dd>0.00212588791872316</dd><dt>man</dt><dd>0.00204215491535989</dd><dt>action</dt><dd>0.00199563658015807</dd><dt>made</dt><dd>0.0019351627443957</dd><dt>movies</dt><dd>0.00193051091087552</dd><dt>another</dt><dd>0.00189794807623425</dd><dt>new</dt><dd>0.0018839925756737</dd><dt>go</dt><dd>0.00186538524159297</dd><dt>big</dt><dd>0.00185608157455261</dd></dl>\n"
            ],
            "text/markdown": "film\n:   0.0139089822253441movie\n:   0.0106480469276966one\n:   0.00904316436323377like\n:   0.00645674492601259just\n:   0.00547055621973401even\n:   0.00481464769338835good\n:   0.00407500616367941time\n:   0.00384241448767032get\n:   0.0037679851513474can\n:   0.00366099298038322bad\n:   0.00357260814349976much\n:   0.00352143797477776character\n:   0.00317720229428429story\n:   0.00315394312668338two\n:   0.00312603212556229characters\n:   0.00310277295796138plot\n:   0.00299112895347701make\n:   0.00299112895347701first\n:   0.00275853727746791also\n:   0.00266550060706427really\n:   0.00263758960594318see\n:   0.00260967860482209way\n:   0.00259572310426154well\n:   0.00247012359921663little\n:   0.00245616809865609scene\n:   0.00240499792993408people\n:   0.00232591676009099never\n:   0.00228405025840935know\n:   0.0022468355902479director\n:   0.00220962092208644scenes\n:   0.00214914708632407films\n:   0.00212588791872316man\n:   0.00204215491535989action\n:   0.00199563658015807made\n:   0.0019351627443957movies\n:   0.00193051091087552another\n:   0.00189794807623425new\n:   0.0018839925756737go\n:   0.00186538524159297big\n:   0.00185608157455261\n\n",
            "text/latex": "\\begin{description*}\n\\item[film] 0.0139089822253441\n\\item[movie] 0.0106480469276966\n\\item[one] 0.00904316436323377\n\\item[like] 0.00645674492601259\n\\item[just] 0.00547055621973401\n\\item[even] 0.00481464769338835\n\\item[good] 0.00407500616367941\n\\item[time] 0.00384241448767032\n\\item[get] 0.0037679851513474\n\\item[can] 0.00366099298038322\n\\item[bad] 0.00357260814349976\n\\item[much] 0.00352143797477776\n\\item[character] 0.00317720229428429\n\\item[story] 0.00315394312668338\n\\item[two] 0.00312603212556229\n\\item[characters] 0.00310277295796138\n\\item[plot] 0.00299112895347701\n\\item[make] 0.00299112895347701\n\\item[first] 0.00275853727746791\n\\item[also] 0.00266550060706427\n\\item[really] 0.00263758960594318\n\\item[see] 0.00260967860482209\n\\item[way] 0.00259572310426154\n\\item[well] 0.00247012359921663\n\\item[little] 0.00245616809865609\n\\item[scene] 0.00240499792993408\n\\item[people] 0.00232591676009099\n\\item[never] 0.00228405025840935\n\\item[know] 0.0022468355902479\n\\item[director] 0.00220962092208644\n\\item[scenes] 0.00214914708632407\n\\item[films] 0.00212588791872316\n\\item[man] 0.00204215491535989\n\\item[action] 0.00199563658015807\n\\item[made] 0.0019351627443957\n\\item[movies] 0.00193051091087552\n\\item[another] 0.00189794807623425\n\\item[new] 0.0018839925756737\n\\item[go] 0.00186538524159297\n\\item[big] 0.00185608157455261\n\\end{description*}\n",
            "text/plain": [
              "       film       movie         one        like        just        even \n",
              "0.013908982 0.010648047 0.009043164 0.006456745 0.005470556 0.004814648 \n",
              "       good        time         get         can         bad        much \n",
              "0.004075006 0.003842414 0.003767985 0.003660993 0.003572608 0.003521438 \n",
              "  character       story         two  characters        plot        make \n",
              "0.003177202 0.003153943 0.003126032 0.003102773 0.002991129 0.002991129 \n",
              "      first        also      really         see         way        well \n",
              "0.002758537 0.002665501 0.002637590 0.002609679 0.002595723 0.002470124 \n",
              "     little       scene      people       never        know    director \n",
              "0.002456168 0.002404998 0.002325917 0.002284050 0.002246836 0.002209621 \n",
              "     scenes       films         man      action        made      movies \n",
              "0.002149147 0.002125888 0.002042155 0.001995637 0.001935163 0.001930511 \n",
              "    another         new          go         big \n",
              "0.001897948 0.001883993 0.001865385 0.001856082 "
            ]
          },
          "metadata": {}
        }
      ]
    },
    {
      "cell_type": "code",
      "source": [
        "#confusion matrix\n",
        "movie_test_predicted_class <- predict(movie_nb, newdata = movies_test_dfm)\n",
        "movie_confusion <- table(movie_test_predicted_class, movies_test_dfm$sentiment)\n",
        "movie_confusion\n",
        "\n",
        "##accuracy\n",
        "mean(movie_test_predicted_class == movies_test_dfm$sentiment)"
      ],
      "metadata": {
        "colab": {
          "base_uri": "https://localhost:8080/",
          "height": 104
        },
        "id": "wS422SvhhNtc",
        "outputId": "1418a047-bec1-4043-c801-9ff3df35963d"
      },
      "execution_count": 14,
      "outputs": [
        {
          "output_type": "display_data",
          "data": {
            "text/plain": [
              "                          \n",
              "movie_test_predicted_class neg pos\n",
              "                       neg 207  44\n",
              "                       pos  46 214"
            ]
          },
          "metadata": {}
        },
        {
          "output_type": "display_data",
          "data": {
            "text/html": [
              "0.823874755381605"
            ],
            "text/markdown": "0.823874755381605",
            "text/latex": "0.823874755381605",
            "text/plain": [
              "[1] 0.8238748"
            ]
          },
          "metadata": {}
        }
      ]
    },
    {
      "cell_type": "code",
      "source": [
        "movie_confusion_statistics <- confusionMatrix(movie_confusion, positive = \"pos\")\n",
        "movie_confusion_statistics"
      ],
      "metadata": {
        "colab": {
          "base_uri": "https://localhost:8080/",
          "height": 486
        },
        "id": "-VwNZ5DdhQJa",
        "outputId": "bf082d38-a228-4308-be70-5fce962274d4"
      },
      "execution_count": 15,
      "outputs": [
        {
          "output_type": "display_data",
          "data": {
            "text/plain": [
              "Confusion Matrix and Statistics\n",
              "\n",
              "                          \n",
              "movie_test_predicted_class neg pos\n",
              "                       neg 207  44\n",
              "                       pos  46 214\n",
              "                                         \n",
              "               Accuracy : 0.8239         \n",
              "                 95% CI : (0.788, 0.8559)\n",
              "    No Information Rate : 0.5049         \n",
              "    P-Value [Acc > NIR] : <2e-16         \n",
              "                                         \n",
              "                  Kappa : 0.6477         \n",
              "                                         \n",
              " Mcnemar's Test P-Value : 0.9161         \n",
              "                                         \n",
              "            Sensitivity : 0.8295         \n",
              "            Specificity : 0.8182         \n",
              "         Pos Pred Value : 0.8231         \n",
              "         Neg Pred Value : 0.8247         \n",
              "             Prevalence : 0.5049         \n",
              "         Detection Rate : 0.4188         \n",
              "   Detection Prevalence : 0.5088         \n",
              "      Balanced Accuracy : 0.8238         \n",
              "                                         \n",
              "       'Positive' Class : pos            \n",
              "                                         "
            ]
          },
          "metadata": {}
        }
      ]
    },
    {
      "cell_type": "markdown",
      "source": [
        "### **wordscores**\n",
        "wordscores is a method used to analyze and understand the content of texts. it helps to find out where a text stands on a certain issue or spectrum by looking at the words it uses."
      ],
      "metadata": {
        "id": "c9fXr-mRLk4A"
      }
    },
    {
      "cell_type": "code",
      "source": [
        "#creating new var\n",
        "movies_train_dfm$refscore <- ifelse(movies_train_dfm$sentiment == \"pos\", 1, -1)\n",
        "\n",
        "#estimating wordscores\n",
        "wordscore_model <- textmodel_wordscores(movies_train_dfm, movies_train_dfm$refscore)\n",
        "\n",
        "#predicts word scores in the test set and stores these scores in a new variable wordscores in movies_test_dfm\n",
        "movies_test_dfm$wordscores <- predict(wordscore_model, movies_test_dfm)\n",
        "\n",
        "#inspect\n",
        "str(docvars(movies_test_dfm))\n",
        "\n",
        "#compare the distribution of wordscores\n",
        "boxplot(movies_test_dfm$wordscores ~ movies_test_dfm$sentiment, ylab = \"Raw wordscore\")"
      ],
      "metadata": {
        "id": "ymt9iDglhQP6"
      },
      "execution_count": 16,
      "outputs": []
    },
    {
      "cell_type": "code",
      "source": [
        "movies_test_dfm$wordscores <- predict(wordscore_model, movies_test_dfm)"
      ],
      "metadata": {
        "id": "klXslx4uhQbJ"
      },
      "execution_count": 18,
      "outputs": []
    },
    {
      "cell_type": "code",
      "source": [
        "str(docvars(movies_test_dfm))"
      ],
      "metadata": {
        "colab": {
          "base_uri": "https://localhost:8080/"
        },
        "id": "THYS3wqvhZ7d",
        "outputId": "d8fa72fb-1b8d-4ee6-da1b-7b527924a942"
      },
      "execution_count": 19,
      "outputs": [
        {
          "output_type": "stream",
          "name": "stdout",
          "text": [
            "'data.frame':\t511 obs. of  4 variables:\n",
            " $ sentiment : Factor w/ 2 levels \"neg\",\"pos\": 1 1 1 1 1 1 1 1 1 1 ...\n",
            " $ id1       : chr  \"cv004\" \"cv007\" \"cv008\" \"cv011\" ...\n",
            " $ id2       : chr  \"12641\" \"4992\" \"29326\" \"13044\" ...\n",
            " $ wordscores: 'predict.textmodel_wordscores' num  -0.01885 -0.08314 0.01874 0.00263 -0.04413 ...\n"
          ]
        }
      ]
    },
    {
      "cell_type": "code",
      "source": [
        "#compare the distribution of wordscores\n",
        "boxplot(movies_test_dfm$wordscores ~ movies_test_dfm$sentiment, ylab = \"Raw wordscore\")"
      ],
      "metadata": {
        "colab": {
          "base_uri": "https://localhost:8080/",
          "height": 437
        },
        "id": "dNrtUlRZhaCy",
        "outputId": "4993b561-b0d4-41ae-85c0-591f1128417a"
      },
      "execution_count": 20,
      "outputs": [
        {
          "output_type": "display_data",
          "data": {
            "text/plain": [
              "plot without title"
            ],
            "image/png": "[encoded data removed]"
          },
          "metadata": {
            "image/png": {
              "width": 420,
              "height": 420
            }
          }
        }
      ]
    },
    {
      "cell_type": "markdown",
      "source": [
        "The wordscore model generally assigns lower scores to negative reviews and higher scores to positive reviews. This confirms that the model can effectively differentiate between positive and negative sentiments based on the words used in the reviews."
      ],
      "metadata": {
        "id": "ukGUvf7JP70S"
      }
    },
    {
      "cell_type": "markdown",
      "source": [
        "### **IRISH BUDGET DATASET**"
      ],
      "metadata": {
        "id": "-9hCahzfUn1B"
      }
    },
    {
      "cell_type": "code",
      "source": [
        "#tokenizing the text and stemming words\n",
        "irish_tokens <- tokens(data_corpus_irishbudget2010, remove_punct = TRUE) %>%\n",
        "  tokens_wordstem()\n",
        "\n",
        "#document-feature matrix\n",
        "irish_dfm <- dfm(irish_tokens) %>%\n",
        "  dfm_remove(pattern = stopwords(\"en\"))\n",
        "\n",
        "#creating a wordfish model\n",
        "#helps to uncover the underlying themes or positions that differentiate the texts\n",
        "wordfish_model <- textmodel_wordfish(irish_dfm)\n",
        "\n",
        "textplot_scale1d(wordfish_model, groups = data_corpus_irishbudget2010$party)"
      ],
      "metadata": {
        "colab": {
          "base_uri": "https://localhost:8080/",
          "height": 541
        },
        "id": "8VY2ajMPhh5m",
        "outputId": "8dc1b381-2438-454a-ad2f-ac3ca8f33a61"
      },
      "execution_count": 20,
      "outputs": [
        {
          "output_type": "stream",
          "name": "stderr",
          "text": [
            "Installing package into ‘/usr/local/lib/R/site-library’\n",
            "(as ‘lib’ is unspecified)\n",
            "\n",
            "also installing the dependencies ‘coda’, ‘extrafontdb’, ‘Rttf2pt1’, ‘statnet.common’, ‘extrafont’, ‘ggrepel’, ‘sna’, ‘igraph’, ‘network’\n",
            "\n",
            "\n"
          ]
        },
        {
          "output_type": "display_data",
          "data": {
            "text/plain": [
              "plot without title"
            ],
            "image/png": "[encoded data removed]"
          },
          "metadata": {
            "image/png": {
              "width": 420,
              "height": 420
            }
          }
        }
      ]
    },
    {
      "cell_type": "markdown",
      "source": [
        "The plot visually separates the speeches or texts by their estimated ideological positions. Parties are distinctly grouped, showing that members of the same party have similar positions. The further apart the points are on the horizontal axis, the more different their ideological positions are.\n",
        "\n",
        "\\\n",
        "For example, the points for Labour Party members (Quinn, Higgins, Burton, and Gilmore) are all positioned towards the right end of the spectrum. This suggests that their speeches or texts are similar in ideological position and clustered on one end of the latent dimension. Fianna Fáil members (Cowen and Lenihan) are positioned on the left end of the spectrum, indicating another distinct ideological position."
      ],
      "metadata": {
        "id": "F13IFj1Hlm3g"
      }
    },
    {
      "cell_type": "code",
      "source": [
        "#extracting the most discriminating words at each end of the dimension\n",
        "head(wordfish_model$features[order(wordfish_model$beta, decreasing = T)])\n",
        "\n",
        "head(wordfish_model$features[order(wordfish_model$beta, decreasing = F)])"
      ],
      "metadata": {
        "colab": {
          "base_uri": "https://localhost:8080/",
          "height": 52
        },
        "id": "3luL-4JXhiCw",
        "outputId": "7056b608-3afb-4f28-f755-b8a12c264048"
      },
      "execution_count": 22,
      "outputs": [
        {
          "output_type": "display_data",
          "data": {
            "text/html": [
              "<style>\n",
              ".list-inline {list-style: none; margin:0; padding: 0}\n",
              ".list-inline>li {display: inline-block}\n",
              ".list-inline>li:not(:last-child)::after {content: \"\\00b7\"; padding: 0 .5ex}\n",
              "</style>\n",
              "<ol class=list-inline><li>'citizenship'</li><li>'screw'</li><li>'phrase'</li><li>'precis'</li><li>'internat'</li><li>'passport'</li></ol>\n"
            ],
            "text/markdown": "1. 'citizenship'\n2. 'screw'\n3. 'phrase'\n4. 'precis'\n5. 'internat'\n6. 'passport'\n\n\n",
            "text/latex": "\\begin{enumerate*}\n\\item 'citizenship'\n\\item 'screw'\n\\item 'phrase'\n\\item 'precis'\n\\item 'internat'\n\\item 'passport'\n\\end{enumerate*}\n",
            "text/plain": [
              "[1] \"citizenship\" \"screw\"       \"phrase\"      \"precis\"      \"internat\"   \n",
              "[6] \"passport\"   "
            ]
          },
          "metadata": {}
        },
        {
          "output_type": "display_data",
          "data": {
            "text/html": [
              "<style>\n",
              ".list-inline {list-style: none; margin:0; padding: 0}\n",
              ".list-inline>li {display: inline-block}\n",
              ".list-inline>li:not(:last-child)::after {content: \"\\00b7\"; padding: 0 .5ex}\n",
              "</style>\n",
              "<ol class=list-inline><li>'innov'</li><li>'summari'</li><li>'boost'</li><li>'day-to-day'</li><li>'particip'</li><li>'enhanc'</li></ol>\n"
            ],
            "text/markdown": "1. 'innov'\n2. 'summari'\n3. 'boost'\n4. 'day-to-day'\n5. 'particip'\n6. 'enhanc'\n\n\n",
            "text/latex": "\\begin{enumerate*}\n\\item 'innov'\n\\item 'summari'\n\\item 'boost'\n\\item 'day-to-day'\n\\item 'particip'\n\\item 'enhanc'\n\\end{enumerate*}\n",
            "text/plain": [
              "[1] \"innov\"      \"summari\"    \"boost\"      \"day-to-day\" \"particip\"  \n",
              "[6] \"enhanc\"    "
            ]
          },
          "metadata": {}
        }
      ]
    },
    {
      "cell_type": "markdown",
      "source": [
        "still hard to know what this dimension \"means\" in any real sense :("
      ],
      "metadata": {
        "id": "Prb23mm7mhUL"
      }
    },
    {
      "cell_type": "code",
      "source": [
        "#scatter plot to visualize the r/s between the log of the token count for each document & the estimated alpha values from the Wordfish model\n",
        "plot(x = log(ntoken(irish_dfm)),\n",
        "     y = wordfish_model$alpha, pch = 19,\n",
        "     xlab=\"log token count for each document\",\n",
        "     ylab=\"estimated alpha\")"
      ],
      "metadata": {
        "colab": {
          "base_uri": "https://localhost:8080/",
          "height": 437
        },
        "id": "O3ckAgsaho5k",
        "outputId": "54c6b0e7-7415-40f5-be4e-c518533e9970"
      },
      "execution_count": 23,
      "outputs": [
        {
          "output_type": "display_data",
          "data": {
            "text/plain": [
              "plot without title"
            ],
            "image/png": "[encoded data removed]"
          },
          "metadata": {
            "image/png": {
              "width": 420,
              "height": 420
            }
          }
        }
      ]
    },
    {
      "cell_type": "markdown",
      "source": [
        "This scatter plot confirms that there is a positive relationship between the length of the documents (log token count) and the baseline level of word usage (estimated alpha). Longer documents tend to have higher baseline word usage."
      ],
      "metadata": {
        "id": "aO89EusMnBb9"
      }
    },
    {
      "cell_type": "code",
      "source": [
        "#visualize the relationship between the log of word frequencies and the estimated psi values\n",
        "\n",
        "#finding top 1,000 words\n",
        "top1000 <- topfeatures(irish_dfm, n=1000)\n",
        "top1000 <- data.frame(word = names(top1000),\n",
        "                      freq = as.numeric(top1000),\n",
        "                    stringsAsFactors = FALSE)\n",
        "\n",
        "#extracting the estimated psi parameters\n",
        "df <- data.frame(\n",
        "  word = wordfish_model$features,\n",
        "  psi_hat = wordfish_model$psi,\n",
        "  stringsAsFactors=FALSE\n",
        ")\n",
        "\n",
        "#merge the word counts with the estimated word-level coefficients\n",
        "df <- merge(df, top1000)\n",
        "\n",
        "#plot the result\n",
        "plot(\n",
        "  x = log(df$freq),\n",
        "  y = df$psi_hat,\n",
        "  pch = 19, col = \"gray\",\n",
        "  xlab = \"log(word frequency)\",\n",
        "  ylab = \"estimated psi\"\n",
        ")"
      ],
      "metadata": {
        "colab": {
          "base_uri": "https://localhost:8080/",
          "height": 437
        },
        "id": "VZ-WpmVfho-_",
        "outputId": "b07b3384-c9c0-4ad4-ec2d-40a771112437"
      },
      "execution_count": 24,
      "outputs": [
        {
          "output_type": "display_data",
          "data": {
            "text/plain": [
              "plot without title"
            ],
            "image/png": "[encoded data removed]"
          },
          "metadata": {
            "image/png": {
              "width": 420,
              "height": 420
            }
          }
        }
      ]
    },
    {
      "cell_type": "markdown",
      "source": [
        "The psi value for a word quantifies the extent to which that word helps to distinguish between different positions on the latent dimension. Higher absolute values indicate that the word is more strongly associated with the latent dimension, making it more discriminative.\n",
        "\n",
        "There is a positive correlation between word frequency and psi values, suggesting that more frequent words tend to have higher psi values."
      ],
      "metadata": {
        "id": "7h_T2xRAtj9_"
      }
    }
  ]
}